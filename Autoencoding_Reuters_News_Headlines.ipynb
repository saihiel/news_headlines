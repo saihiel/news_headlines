{
  "nbformat": 4,
  "nbformat_minor": 0,
  "metadata": {
    "colab": {
      "name": "Copy of Autoencoding_Reuters_News_Headlines.ipynb",
      "provenance": [],
      "collapsed_sections": []
    },
    "kernelspec": {
      "name": "python3",
      "display_name": "Python 3"
    },
    "accelerator": "GPU",
    "pycharm": {
      "stem_cell": {
        "cell_type": "raw",
        "source": [],
        "metadata": {
          "collapsed": false
        }
      }
    }
  },
  "cells": [
    {
      "cell_type": "markdown",
      "metadata": {
        "id": "kZwdJ0VphZ53",
        "colab_type": "text"
      },
      "source": [
        "# Reuters News Headlines\n",
        "This project focuses on the application of deep learning to natural language processing.\n",
        "I will be working with a subset of Reuters news headlines that are collected over 15 months,\n",
        "covering all of 2019, plus a few months in 2018 and in a few months of this year.\n",
        "\n",
        "In particular, I will be building an **autoencoder** of news headlines.\n",
        "I will have an **encoder** that maps a news headline to a vector embedding, and then a **decoder** that reconstructs\n",
        "the news headline. Both our encoder and decoder networks will be Recurrent Neural Networks,\n",
        "I will build: \n",
        "\n",
        "- a neural network that takes a sequence as an input\n",
        "- a neural network that generates a sequence as an output\n",
        "\n",
        "This project is organized as follows:\n",
        "\n",
        "- Exploring the data\n",
        "- Building the autoencoder\n",
        "- Training the autoencoder using *data augmentation*\n",
        "- Analyzing the embeddings (interpolating between headlines)\n",
        "\n",
        "Furthermore, I use **data augmentation** for improving of\n",
        "the robustness of the autoencoder, as proposed by Shen et al [1].\n",
        "\n",
        "[1] Shen et al (2019) \"Educating Text Autoencoders: Latent Representation Guidance via Denoising\" https://arxiv.org/pdf/1905.12777.pdf"
      ]
    },
    {
      "cell_type": "code",
      "metadata": {
        "id": "O36sfBclhZ54",
        "colab_type": "code",
        "colab": {}
      },
      "source": [
        "import torch\n",
        "import torch.nn as nn\n",
        "import torch.nn.functional as F\n",
        "import torch.optim as optim\n",
        "\n",
        "import matplotlib.pyplot as plt\n",
        "import numpy as np\n",
        "import random\n",
        "\n",
        "%matplotlib inline"
      ],
      "execution_count": 0,
      "outputs": []
    },
    {
      "cell_type": "markdown",
      "metadata": {
        "id": "NuqjU_EvhZ59",
        "colab_type": "text"
      },
      "source": [
        "\n",
        "First I upload the files `reuters_train.txt` and `reuters_valid.txt` to Google Drive so I can access them through Google Colab easily.\n",
        "\n"
      ]
    },
    {
      "cell_type": "code",
      "metadata": {
        "id": "ArIvACvehZ6A",
        "colab_type": "code",
        "outputId": "4c952ae2-1797-4276-c14f-b4372b5c2adb",
        "colab": {
          "base_uri": "https://localhost:8080/",
          "height": 122
        }
      },
      "source": [
        "from google.colab import drive\n",
        "drive.mount('/content/drive')"
      ],
      "execution_count": 2,
      "outputs": [
        {
          "output_type": "stream",
          "text": [
            "Go to this URL in a browser: https://accounts.google.com/o/oauth2/auth?client_id=947318989803-6bn6qk8qdgf4n4g3pfee6491hc0brc4i.apps.googleusercontent.com&redirect_uri=urn%3aietf%3awg%3aoauth%3a2.0%3aoob&response_type=code&scope=email%20https%3a%2f%2fwww.googleapis.com%2fauth%2fdocs.test%20https%3a%2f%2fwww.googleapis.com%2fauth%2fdrive%20https%3a%2f%2fwww.googleapis.com%2fauth%2fdrive.photos.readonly%20https%3a%2f%2fwww.googleapis.com%2fauth%2fpeopleapi.readonly\n",
            "\n",
            "Enter your authorization code:\n",
            "··········\n",
            "Mounted at /content/drive\n"
          ],
          "name": "stdout"
        }
      ]
    },
    {
      "cell_type": "code",
      "metadata": {
        "id": "CUfH-tsFh1jV",
        "colab_type": "code",
        "colab": {}
      },
      "source": [
        "train_path = '/content/drive/My Drive/reuters_train.txt'\n",
        "valid_path = '/content/drive/My Drive/reuters_valid.txt'"
      ],
      "execution_count": 0,
      "outputs": []
    },
    {
      "cell_type": "markdown",
      "metadata": {
        "id": "-nFbPh_RhZ6D",
        "colab_type": "text"
      },
      "source": [
        "I'll be using a `TabularDataset` to load my data, which works well on structured\n",
        "CSV data with fixed columns (e.g. a column for the sequence, a column for the label). My tabular dataset\n",
        "is even simpler: I have no labels, just some text. So, I am treating my data as a table with one field\n",
        "representing the sequence."
      ]
    },
    {
      "cell_type": "code",
      "metadata": {
        "id": "VoOCBk6ohZ6D",
        "colab_type": "code",
        "colab": {}
      },
      "source": [
        "import torchtext\n",
        "\n",
        "# Tokenization function to separate a headline into words\n",
        "def tokenize_headline(headline):\n",
        "    \"\"\"Returns the sequence of words in the string headline. I also\n",
        "    prepend the \"<bos>\" or beginning-of-string token, and append the\n",
        "    \"<eos>\" or end-of-string token to the headline.\n",
        "    \"\"\"\n",
        "    return (\"<bos> \" + headline + \" <eos>\").split()\n",
        "\n",
        "# Data field (column) representing our *text*.\n",
        "text_field = torchtext.data.Field(\n",
        "    sequential=True,            # this field consists of a sequence\n",
        "    tokenize=tokenize_headline, # how to split sequences into words\n",
        "    include_lengths=True,       # to track the length of sequences, for batching\n",
        "    batch_first=True,           # similar to batch_first=True in nn.RNN demonstrated in lecture\n",
        "    use_vocab=True)             # to turn each character into an integer index\n",
        "train_data = torchtext.data.TabularDataset(\n",
        "    path=train_path,                # data file path\n",
        "    format=\"tsv\",                   # fields are separated by a tab\n",
        "    fields=[('title', text_field)]) # list of fields (I have only one)"
      ],
      "execution_count": 0,
      "outputs": []
    },
    {
      "cell_type": "markdown",
      "metadata": {
        "id": "njwPSEF1hZ6G",
        "colab_type": "text"
      },
      "source": [
        "\n",
        "Histograms of the number of words per headline in our training set.\n",
        "Excluding the `<bos>` and `<eos>` tags in my computation.\n"
      ]
    },
    {
      "cell_type": "code",
      "metadata": {
        "id": "6abSBDNohZ6H",
        "colab_type": "code",
        "outputId": "bb89100d-78e0-43b2-909e-a033b088cbc0",
        "colab": {
          "base_uri": "https://localhost:8080/",
          "height": 346
        }
      },
      "source": [
        "print(len(train_data))\n",
        "\n",
        "print(train_data[5].title)\n",
        "lens = [len(example.title) - 2 for example in train_data]\n",
        "plt.hist(lens, bins = [i for i in range(max(lens))], color=\"orange\")\n",
        "plt.title('Number of words per headline in training set')\n",
        "plt.xlabel('Number of words per headline')\n",
        "plt.ylabel('Count')\n",
        "plt.show\n",
        "\n",
        "# I found this histogram useful to see the distribution of\n",
        "# headline lengths. This allowed me to make decisions about the kind of model \n",
        "# I should use. For instance, the size of the hidden layer/the embedding size\n",
        "# depends on the length of the sequences. Since, if a single headline can be 200 words \n",
        "# long, then the size of the embedding needs to be large enough to \n",
        "# to represent this headline."
      ],
      "execution_count": 5,
      "outputs": [
        {
          "output_type": "stream",
          "text": [
            "171443\n",
            "['<bos>', 'u.s.', 'navy', 'pursuing', 'block', 'buy', 'of', 'two', 'aircraft', 'carriers', '-', 'senator', '<eos>']\n"
          ],
          "name": "stdout"
        },
        {
          "output_type": "execute_result",
          "data": {
            "text/plain": [
              "<function matplotlib.pyplot.show>"
            ]
          },
          "metadata": {
            "tags": []
          },
          "execution_count": 5
        },
        {
          "output_type": "display_data",
          "data": {
            "image/png": "[encoded data removed]",
            "text/plain": [
              "<Figure size 432x288 with 1 Axes>"
            ]
          },
          "metadata": {
            "tags": [],
            "needs_background": "light"
          }
        }
      ]
    },
    {
      "cell_type": "markdown",
      "metadata": {
        "id": "AAqGCO_dhZ6L",
        "colab_type": "text"
      },
      "source": [
        "\n",
        "Number of distinct words appear in the training data: \n",
        "Excluding the `<bos>` and `<eos>` tags."
      ]
    },
    {
      "cell_type": "code",
      "metadata": {
        "id": "9JWTBXRjhZ6M",
        "colab_type": "code",
        "outputId": "66fdde78-46c1-4a2f-8396-2a80023aa8eb",
        "colab": {
          "base_uri": "https://localhost:8080/",
          "height": 34
        }
      },
      "source": [
        "from collections import Counter\n",
        "train_words = np.concatenate([np.array(i[1:-1]) for i in train_data.title])\n",
        "c = Counter(train_words)\n",
        "total_distinct = len(c.keys())\n",
        "print(f\"Number of distinct words: {total_distinct}\")"
      ],
      "execution_count": 0,
      "outputs": [
        {
          "output_type": "stream",
          "text": [
            "Number of distinct words: 51298\n"
          ],
          "name": "stdout"
        }
      ]
    },
    {
      "cell_type": "markdown",
      "metadata": {
        "id": "CIG7GPT6hZ6O",
        "colab_type": "text"
      },
      "source": [
        "\n",
        "The distribution of *words* will have a long tail, meaning that there are some words\n",
        "that will appear very often, and many words that will appear infrequently.\n"
      ]
    },
    {
      "cell_type": "code",
      "metadata": {
        "id": "nM4I7GirhZ6P",
        "colab_type": "code",
        "outputId": "ea8787dd-4e26-48fb-e243-303787934fa0",
        "colab": {
          "base_uri": "https://localhost:8080/",
          "height": 306
        }
      },
      "source": [
        "# Extra info just for better understanding of the data\n",
        "from collections import Counter\n",
        "train_words = np.concatenate([np.array(i[1:-1]) for i in train_data.title])\n",
        "c = Counter(train_words)\n",
        "print(\"10 Most common words\")\n",
        "for entry in c.most_common(10):\n",
        "\tprint(\" Word: {0:3} Count: {1}\".format(entry[0], entry[1]))\n",
        "print('\\n','--'*25)\n",
        "\n",
        "#Part (c):\n",
        "counts = np.array(list(c.most_common()))\n",
        "print(\"\\nNumber of words that appear exactly once: \",sum(counts[:,1]=='1'))\n",
        "print(\"\\nNumber of words that appear exactly twice:\", sum(counts[:,1]=='2'))"
      ],
      "execution_count": 8,
      "outputs": [
        {
          "output_type": "stream",
          "text": [
            "10 Most common words\n",
            " Word: to  Count: 58452\n",
            " Word: ,   Count: 43088\n",
            " Word: in  Count: 38538\n",
            " Word: 's  Count: 34580\n",
            " Word: _num_ Count: 31340\n",
            " Word: :   Count: 28052\n",
            " Word: on  Count: 24794\n",
            " Word: of  Count: 22895\n",
            " Word: for Count: 22163\n",
            " Word: u.s. Count: 19320\n",
            "\n",
            " --------------------------------------------------\n",
            "\n",
            "Number of words that appear exactly once:  19854\n",
            "\n",
            "Number of words that appear exactly twice: 7193\n"
          ],
          "name": "stdout"
        }
      ]
    },
    {
      "cell_type": "markdown",
      "metadata": {
        "id": "9dNRE4_6hZ6R",
        "colab_type": "text"
      },
      "source": [
        "\n"
      ]
    },
    {
      "cell_type": "code",
      "metadata": {
        "id": "UaivKwhbhZ6T",
        "colab_type": "code",
        "colab": {}
      },
      "source": [
        "# Using the <unk> tag instead of learning embeddings for rare words allows \n",
        "# me to embed unseen words. For example, if I come across a word in the validation\n",
        "# set that I didn't see in the training set, then I still have an embedding \n",
        "# for the word. Thus, I would rather replace infrequent words with <unk> tags\n",
        "# so I have a better way of dealing with both, words that appear out of \n",
        "# vocabulary and infrequently.\n",
        "# In this way, the model will learn to handle all unseen words and words for \n",
        "# which there are not enough training points. The model will be able to leverage\n",
        "# the context of the <unk> words to learn how to handle this case, and make \n",
        "# good predictions even in the validation and test sets."
      ],
      "execution_count": 0,
      "outputs": []
    },
    {
      "cell_type": "markdown",
      "metadata": {
        "id": "W5HEnhFfhZ6X",
        "colab_type": "text"
      },
      "source": [
        "\n",
        "I will only model the top 9995 words in the training set, excluding the tags\n",
        "`<bos>`, `<eos>`, and other possible tags\n",
        "(including those, I will have a vocabulary size of exactly 10000 tokens).\n",
        "\n"
      ]
    },
    {
      "cell_type": "code",
      "metadata": {
        "id": "foMv-_CVhZ6X",
        "colab_type": "code",
        "outputId": "65276267-b33d-4a4f-c54a-62a323edbaaa",
        "colab": {
          "base_uri": "https://localhost:8080/",
          "height": 51
        }
      },
      "source": [
        "train_words = np.concatenate([np.array(i[1:-1]) for i in train_data.title])\n",
        "c = Counter(train_words)\n",
        "\n",
        "total_occ = sum(c.values()) # total word occurrences\n",
        "top_occ = 0 # top word occurrences\n",
        "for entry in c.most_common(9995): top_occ += entry[1]\n",
        "print(f\"Word occurrences that will be supported: {(100 * (top_occ / total_occ)):.2f}%\")\n",
        "print(f\"Word occurrences that will be set to the <unk> tag: {(100 * (1 - top_occ / total_occ)):.2f}%\")"
      ],
      "execution_count": 13,
      "outputs": [
        {
          "output_type": "stream",
          "text": [
            "Word occurrences that will be supported: 93.98%\n",
            "Word occurrences that will be set to the <unk> tag: 6.02%\n"
          ],
          "name": "stdout"
        }
      ]
    },
    {
      "cell_type": "markdown",
      "metadata": {
        "id": "E-gQLNOFhZ6a",
        "colab_type": "text"
      },
      "source": [
        "Our `torchtext` package will help us keep track of our list of unique words, known\n",
        "as a **vocabulary**. A vocabulary also assigns a unique integer index to each word.\n"
      ]
    },
    {
      "cell_type": "code",
      "metadata": {
        "id": "RrrEDsUahZ6a",
        "colab_type": "code",
        "outputId": "68ef935c-abd0-43c2-f7e9-f7ac903e4565",
        "colab": {
          "base_uri": "https://localhost:8080/",
          "height": 102
        }
      },
      "source": [
        "# Building the vocabulary based on the training data. The vocabulary\n",
        "# can have at most 9997 words (9995 words + the <bos> and <eos> token)\n",
        "text_field.build_vocab(train_data, max_size=9997)\n",
        "\n",
        "# This vocabulary object will be helpful\n",
        "vocab = text_field.vocab\n",
        "print(vocab.stoi[\"hello\"]) # for instances, I can convert from string to (unique) index\n",
        "print(vocab.itos[10])      # ... and from word index to string\n",
        "\n",
        "# The size of my vocabulary is actually 10000\n",
        "vocab_size = len(text_field.vocab.stoi)\n",
        "print(vocab_size) # should be 10000\n",
        "\n",
        "# The reason is that torchtext adds two more tokens for us:\n",
        "print(vocab.itos[0]) # <unk> represents an unknown word not in my vocabulary\n",
        "print(vocab.itos[1]) # <pad> will be used to pad short sequences for batching"
      ],
      "execution_count": 0,
      "outputs": [
        {
          "output_type": "stream",
          "text": [
            "0\n",
            "on\n",
            "10000\n",
            "<unk>\n",
            "<pad>\n"
          ],
          "name": "stdout"
        }
      ]
    },
    {
      "cell_type": "markdown",
      "metadata": {
        "id": "WuccFKYphZ6d",
        "colab_type": "text"
      },
      "source": [
        "\n",
        "Here is a diagram showing my desired architecture:\n",
        "\n",
        "<img src=\"https://www.cs.toronto.edu/~lczhang/321/hw/p4model.png\" width=\"95%\" />\n",
        "\n",
        "There are two main components to the model: the **encoder** and the **decoder**.\n",
        "As always with neural networks, I'll first describe how to make\n",
        "**predictions** with of these components. Let's get started:\n",
        "\n",
        "The **encoder** will take a sequence of words (a headline) as *input*, and produce an\n",
        "embedding (a vector) that represents the entire headline. In the diagram above,\n",
        "the vector ${\\bf h}^{(7)}$ is the vector embedding containing information about \n",
        "the entire headline.\n",
        "\n",
        "The **decoder** will take an embedding (in the diagram, the vector ${\\bf h}^{(7)}$) as input,\n",
        "and uses a separate RNN to **generate a sequence of words**. To generate a sequence of words,\n",
        "the decoder needs to do the following:\n",
        "\n",
        "1) Determine the previous word that was generated. This previous word will act as ${\\bf x}^{(t)}$\n",
        "   to our RNN, and will be used to update the hidden state ${\\bf m}^{(t)}$. Since each of our\n",
        "   sequences begin with the `<bos>` token, I'll set ${\\bf x}^{(1)}$ to be the `<bos>` token.\n",
        "2) Compute the updates to the hidden state ${\\bf m}^{(t)}$ based on the previous hidden state\n",
        "   ${\\bf m}^{(t-1)}$ and ${\\bf x}^{(t)}$. Intuitively, this hidden state vector ${\\bf m}^{(t)}$\n",
        "   is a representation of *all the words I still need to generate*.\n",
        "3) I'll use a fully-connected layer to take a hidden state ${\\bf m}^{(t)}$, and determine\n",
        "   *what the next word should be*. This fully-connected layer solves a *classification problem*,\n",
        "   since I am trying to choose a word out of $K=10000$ distinct words. As in a classification\n",
        "   problem, the fully-connected neural network will compute a *probability distribution* over\n",
        "   these 10,000 words. In the diagram, I am using ${\\bf z}^{(t)}$ to represent the logits,\n",
        "   or the pre-softmax activation values representing the probability distribution.\n",
        "4) I will need to *sample* an actual word from this probability distribution ${\\bf z}^{(t)}$.\n",
        "   I can do this in a number of ways.\n",
        "5) This word I choose will become the next input ${\\bf x}^{(t+1)}$ to our RNN, which is used\n",
        "   to update our hidden state ${\\bf m}^{(t+1)}$---i.e. to determine what are the remaining\n",
        "   words to be generated.\n",
        "\n",
        "I can repeat this process until I see an `<eos>` token generated, or until the generated\n",
        "sequence becomes too long.\n",
        "\n",
        "Unfortunately, I can't *train* this autoencoder in the way I just described. That is,\n",
        "I can't just compare our generated sequence with our ground-truth sequence, and get\n",
        "gradients. Both sequences are **discrete** entities, so I won't be able to compute\n",
        "gradients at all! In particular, **sampling is a discrete process**, and so I won't be\n",
        "able to back-propagate through any kind of sampling that I do.\n",
        "\n",
        "Fortunately, there is one very well-established solution called\n",
        "**teacher forcing** which I can use for training:\n",
        "instead of *sampling* the next word based on ${\\bf z}^{(t)}$, I will forgo sampling,\n",
        "and use the **ground truth** ${\\bf x}^{(t)}$ in the next step.\n",
        "\n",
        "Here is a diagram showing how I can use **teacher forcing** to train our model:\n",
        "\n",
        "<img src=\"https://www.cs.toronto.edu/~lczhang/321/hw/p4model_tf.png\" width=\"95%\" />\n",
        "\n",
        "I will use the RNN generator to compute the logits\n",
        "${\\bf z}^{(1)},{\\bf z}^{(2)},  \\cdots {\\bf z}^{(T)}$. These distributions\n",
        "can be compared to the ground-truth words using the cross-entropy loss.\n",
        "The loss function for this model will be the sum of the losses across each $t$.\n",
        "(This is similar to what I did in a pixel-wise prediction problem.)\n",
        "\n",
        "I'll train the encoder and decoder model simultaneously. There are several components\n",
        "to our model that contain tunable weights:\n",
        "\n",
        "- The word embedding that maps a word to a vector representation.\n",
        "  The word embedding component is represented with blue arrows in the diagram.\n",
        "- The encoder RNN (which will use Gated Recurrent Units) that computes the\n",
        "  embedding over the entire headline. The encoder RNN \n",
        "  is represented with black arrows in the diagram.\n",
        "- The decoder RNN (which will also use Gated Recurrent Units) that computes\n",
        "  hidden states, which are vectors representing what words are to be generated.\n",
        "  The decoder RNN is represented with gray arrows in the diagram.\n",
        "- The **projection MLP** (a fully-connected layer) that computes\n",
        "  a distribution over the next word to generate, given a decoder RNN hidden\n",
        "  state.\n",
        "\n"
      ]
    },
    {
      "cell_type": "code",
      "metadata": {
        "id": "oujKpi3ThZ6e",
        "colab_type": "code",
        "colab": {}
      },
      "source": [
        "class AutoEncoder(nn.Module):\n",
        "    def __init__(self, vocab_size, emb_size, hidden_size):\n",
        "        \"\"\"\n",
        "        A text autoencoder. The parameters \n",
        "            - vocab_size: number of unique words/tokens in the vocabulary\n",
        "            - emb_size: size of the word embeddings $x^{(t)}$\n",
        "            - hidden_size: size of the hidden states in both the\n",
        "                           encoder RNN ($h^{(t)}$) and the\n",
        "                           decoder RNN ($m^{(t)}$)\n",
        "        \"\"\"\n",
        "        super().__init__()\n",
        "        self.embed = nn.Embedding(num_embeddings=vocab_size,\n",
        "                                  embedding_dim=emb_size)  \n",
        "        self.encoder_rnn = nn.GRU(input_size=emb_size, \n",
        "                                  hidden_size=hidden_size,\n",
        "                                  batch_first=True)\n",
        "        self.decoder_rnn = nn.GRU(input_size=emb_size,\n",
        "                                  hidden_size=hidden_size,\n",
        "                                  batch_first=True)\n",
        "        self.proj = nn.Linear(in_features=hidden_size,\n",
        "                              out_features=vocab_size)\n",
        "\n",
        "    def encode(self, inp):\n",
        "        \"\"\"\n",
        "        Computes the encoder output given a sequence of words.\n",
        "        \"\"\"\n",
        "        emb = self.embed(inp)\n",
        "        out, last_hidden = self.encoder_rnn(emb)\n",
        "        return last_hidden\n",
        "\n",
        "    def decode(self, inp, hidden=None):\n",
        "        \"\"\"\n",
        "        Computes the decoder output given a sequence of words, and\n",
        "        (optionally) an initial hidden state.\n",
        "        \"\"\"\n",
        "        emb = self.embed(inp)\n",
        "        out, last_hidden = self.decoder_rnn(emb, hidden)\n",
        "        out_seq = self.proj(out)\n",
        "        return out_seq, last_hidden\n",
        "\n",
        "    def forward(self, inp):\n",
        "        \"\"\"\n",
        "        Compute both the encoder and decoder forward pass\n",
        "        given an integer input sequence inp with shape [batch_size, seq_length],\n",
        "        with inp[a,b] representing the (index in our vocabulary of) the b-th word\n",
        "        of the a-th training example.\n",
        "\n",
        "        This function should return the logits $z^{(t)}$ in a tensor of shape\n",
        "        [batch_size, seq_length - 1, vocab_size], computed using *teaching forcing*.\n",
        "\n",
        "        \"\"\"\n",
        "\n",
        "        last_hidden_encoded = self.encode(inp)\n",
        "        output, hidden = self.decode(inp[:,:-1], last_hidden_encoded)\n",
        "        return output, hidden\n"
      ],
      "execution_count": 0,
      "outputs": []
    },
    {
      "cell_type": "markdown",
      "metadata": {
        "id": "orT4cOnwhZ6h",
        "colab_type": "text"
      },
      "source": [
        "\n",
        "To check that my model is set up correctly, I'll train our AutoEncoder\n",
        "neural network for at least 300 iterations to memorize this sequence:"
      ]
    },
    {
      "cell_type": "code",
      "metadata": {
        "id": "D7mmFLtDhZ6h",
        "colab_type": "code",
        "colab": {}
      },
      "source": [
        "headline = train_data[42].title\n",
        "input_seq = torch.Tensor([vocab.stoi[w] for w in headline]).long().unsqueeze(0)"
      ],
      "execution_count": 0,
      "outputs": []
    },
    {
      "cell_type": "markdown",
      "metadata": {
        "id": "E1Y9CKnIhZ6j",
        "colab_type": "text"
      },
      "source": [
        "\n"
      ]
    },
    {
      "cell_type": "code",
      "metadata": {
        "id": "-Mh5480ehZ6k",
        "colab_type": "code",
        "outputId": "324a42dc-e3f1-48fc-a64f-7b84897586d0",
        "colab": {
          "base_uri": "https://localhost:8080/",
          "height": 119
        }
      },
      "source": [
        "model = AutoEncoder(vocab_size, 128, 128)\n",
        "optimizer = optim.Adam(model.parameters(), lr=0.001)\n",
        "criterion = nn.CrossEntropyLoss()\n",
        "\n",
        "for it in range(300):\n",
        "    optimizer.zero_grad()\n",
        "    output, hidden = model(input_seq)\n",
        "    target = input_seq[:,1:]\n",
        "    loss = criterion(output.reshape(-1, vocab_size),\n",
        "                 target.reshape(-1))\n",
        "    loss.backward()\n",
        "    optimizer.step()\n",
        "\n",
        "    if (it+1) % 50 == 0:\n",
        "        print(\"[Iter %d] Loss %f\" % (it+1, float(loss)))"
      ],
      "execution_count": 0,
      "outputs": [
        {
          "output_type": "stream",
          "text": [
            "[Iter 50] Loss 0.088019\n",
            "[Iter 100] Loss 0.025627\n",
            "[Iter 150] Loss 0.016161\n",
            "[Iter 200] Loss 0.011296\n",
            "[Iter 250] Loss 0.008410\n",
            "[Iter 300] Loss 0.006544\n"
          ],
          "name": "stdout"
        }
      ]
    },
    {
      "cell_type": "markdown",
      "metadata": {
        "id": "rcZYTF9jhZ6n",
        "colab_type": "text"
      },
      "source": [
        "\n",
        "Note that I am sampling from a multi-nomial distribution described\n",
        "by the logits $z^{(t)}$. For example, if our distribution is [80%, 20%]\n",
        "over a vocabulary of two words, then I will choose the first word\n",
        "with 80% probability and the second word with 20% probability.\n",
        "\n"
      ]
    },
    {
      "cell_type": "code",
      "metadata": {
        "id": "wjDTLU6ChZ6n",
        "colab_type": "code",
        "outputId": "0aadeac0-d58e-448e-b64b-33cdbfb4d744",
        "colab": {
          "base_uri": "https://localhost:8080/",
          "height": 102
        }
      },
      "source": [
        "def sample_sequence(model, hidden, max_len=20, temperature=1):\n",
        "    \"\"\"\n",
        "    Return a sequence generated from the model's decoder\n",
        "        - model: an instance of the AutoEncoder model\n",
        "        - hidden: a hidden state (e.g. computed by the encoder)\n",
        "        - max_len: the maximum length of the generated sequence\n",
        "        - temperature: described below\n",
        "    \"\"\"\n",
        "    # I'll store our generated sequence here\n",
        "    generated_sequence = []\n",
        "    # Set input to the <BOS> token\n",
        "    inp = torch.Tensor([text_field.vocab.stoi[\"<bos>\"]]).long()\n",
        "    for p in range(max_len):\n",
        "        # compute the output and next hidden unit\n",
        "        output, hidden = model.decode(inp.unsqueeze(0), hidden)\n",
        "        # Sample from the network as a multinomial distribution\n",
        "        output_dist = output.data.view(-1).div(temperature).exp()\n",
        "        top_i = int(torch.multinomial(output_dist, 1)[0])\n",
        "        # Add predicted word to string and use as next input\n",
        "        word = text_field.vocab.itos[top_i]\n",
        "        # Break early if I reach <eos>\n",
        "        if word == \"<eos>\":\n",
        "            break\n",
        "        generated_sequence.append(word)\n",
        "        inp = torch.Tensor([top_i]).long()\n",
        "    return generated_sequence\n",
        "\n",
        "for i in range(5):\n",
        "  hidden = model.encode(input_seq)\n",
        "  seq = sample_sequence(model, hidden)\n",
        "  print(f'Iteration: {i}; Generated Sequence: {seq}')"
      ],
      "execution_count": 0,
      "outputs": [
        {
          "output_type": "stream",
          "text": [
            "Iteration: 0; Generated Sequence: ['zambian', 'president', 'swears', 'in', 'new', 'army', 'chief']\n",
            "Iteration: 1; Generated Sequence: ['zambian', 'president', 'swears', 'in', 'new', 'army', 'chief']\n",
            "Iteration: 2; Generated Sequence: ['zambian', 'president', 'swears', 'in', 'new', 'army', 'chief']\n",
            "Iteration: 3; Generated Sequence: ['zambian', 'president', 'swears', 'in', 'new', 'army', 'chief']\n",
            "Iteration: 4; Generated Sequence: ['zambian', 'president', 'swears', 'in', 'new', 'army', 'chief']\n"
          ],
          "name": "stdout"
        }
      ]
    },
    {
      "cell_type": "markdown",
      "metadata": {
        "id": "jOS0oCWQhZ6t",
        "colab_type": "text"
      },
      "source": [
        "\n",
        "The multi-nomial distribution can be manipulated using the `temperature`\n",
        "setting. This setting can be used to make the distribution \"flatter\" (e.g.\n",
        "more likely to generate different words) or \"peakier\" (e.g. less likely\n",
        "to generate different words).\n",
        "\n"
      ]
    },
    {
      "cell_type": "code",
      "metadata": {
        "id": "ykloMqSIhZ6t",
        "colab_type": "code",
        "outputId": "f9d1c760-e658-4d30-aed3-e66b8e473ca5",
        "colab": {
          "base_uri": "https://localhost:8080/",
          "height": 853
        }
      },
      "source": [
        "\"\"\"\n",
        "If I use larger temperature settings it makes all actions more equally likely,\n",
        "and thus gives us \"more random\" outputs. However, lower values (less than 1)\n",
        "makes high probabilities contribute more. As the temperature values move towards\n",
        "zero I get only the most likely outputs.\n",
        "\"\"\"\n",
        "for temp in [0.5,1.5, 2, 4]:\n",
        "  for i in range(5):\n",
        "    hidden = model.encode(input_seq)\n",
        "    seq = sample_sequence(model, hidden, temperature=temp)\n",
        "    print(f'Iter: {i}; Temp: {temp}; Generated Sequence:\\n   {seq}')\n",
        "  print('\\n')"
      ],
      "execution_count": 0,
      "outputs": [
        {
          "output_type": "stream",
          "text": [
            "Iter: 0; Temp: 0.5; Generated Sequence:\n",
            "   ['zambian', 'president', 'swears', 'in', 'new', 'army', 'chief']\n",
            "Iter: 1; Temp: 0.5; Generated Sequence:\n",
            "   ['zambian', 'president', 'swears', 'in', 'new', 'army', 'chief']\n",
            "Iter: 2; Temp: 0.5; Generated Sequence:\n",
            "   ['zambian', 'president', 'swears', 'in', 'new', 'army', 'chief']\n",
            "Iter: 3; Temp: 0.5; Generated Sequence:\n",
            "   ['zambian', 'president', 'swears', 'in', 'new', 'army', 'chief']\n",
            "Iter: 4; Temp: 0.5; Generated Sequence:\n",
            "   ['zambian', 'president', 'swears', 'in', 'new', 'army', 'chief']\n",
            "\n",
            "\n",
            "Iter: 0; Temp: 1.5; Generated Sequence:\n",
            "   ['constellation', 'sox', 'chief', 'masks', 'professor', 'boss', 'woods', 'insolvency', 'quarantined', 'obama', 'valentine', 'ill-fated', 'wheels', 'acquiring', 'chief']\n",
            "Iter: 1; Temp: 1.5; Generated Sequence:\n",
            "   ['zambian', 'president', 'swears', 'transmission', 'ousted', 'magna', 'first', 'liable', 'boeing', 'cincinnati', 'year-on-year', 'swears', 'in', 'new', 'escalating', 'future', 'exposes', 'lags', 'brussels', 'army']\n",
            "Iter: 2; Temp: 1.5; Generated Sequence:\n",
            "   ['president', 'guatemala', 'in', 'new', 'von', 'president', 'swears', 'in', 'new', 'army', 'chief']\n",
            "Iter: 3; Temp: 1.5; Generated Sequence:\n",
            "   ['zambian', 'president', 'swears', 'spacecraft', 'chief', 'views', 'scales', 'nickel', 'tons']\n",
            "Iter: 4; Temp: 1.5; Generated Sequence:\n",
            "   ['zambian', 'swears', 'in', 'new', 'divisions', 'browns', 'ms', 'ban', 'new', 'army', 'chief']\n",
            "\n",
            "\n",
            "Iter: 0; Temp: 2; Generated Sequence:\n",
            "   ['nutrition', 'issue', 'warm', 'towers', 'uses', 'argues', 'politically', 'computers', 'witnesses', 'retire', 'chief', 'fully', 'charges', 'twice', 'shy', 'zambian', 'coleman', 'prudent', 'wireless', 'pratt']\n",
            "Iter: 1; Temp: 2; Generated Sequence:\n",
            "   ['indivior', 'sanofi', 'protesters', 'hindu', 'vestager', 'esports', 'kavanaugh', 'daughter', 'defiant', 'cognizant', 'describe', 'launch', 'rubio', 'zambian', 'president', 'sinai', 'pop', 'settlement', 'army', 'absence']\n",
            "Iter: 2; Temp: 2; Generated Sequence:\n",
            "   ['denmark', 'behind', 'uefa', 'reflect', 'americas', 'rage', 'finding', 'determined', 'breakthrough', 'erase', '_num_-hedge', 'boosts', 'russians', 'machinery', 'pump', 'commuter', 'americas', 'senior', 'greenpeace', 'kurdish']\n",
            "Iter: 3; Temp: 2; Generated Sequence:\n",
            "   ['eats', 'concedes', 'slate', 'bnp', 'decades', 'merchants', 'heightened', 'put', 'nadal', '_num_-chinese', '_num_-euro', 'identity', 'looking', 'o', 'shifts', 'lawrence', 'kamala', 'fares', 'chief', '_num_-vodafone']\n",
            "Iter: 4; Temp: 2; Generated Sequence:\n",
            "   ['steel', 'globally', 'poses', 'regrettable', 'sweetens', 'restores', 'bout', 'jesus', 'treaty', '_num_-thyssenkrupp', 'chief', 'student', 'backers', 'drugmakers', 'iran-backed', 'pass', 'nasa', 'h', 'importers', 'stalled']\n",
            "\n",
            "\n",
            "Iter: 0; Temp: 4; Generated Sequence:\n",
            "   ['ease', 'slowed', 'exclusion', 'klm', 'asia', 'alleging', 'become', 'julius', 'spacex', 'hidden', 'sue', 'gp', 'eqt', 'bite', 'stave', 'retreat', 'congressman', 'wins', 'clean-up', 'choke']\n",
            "Iter: 1; Temp: 4; Generated Sequence:\n",
            "   ['slashing', '_num_-cn', 'magnitude', 'coach', 'big', 'fortunes', 'sworn', 'muguruza', 'promote', 'sanction', 'box', 'blaming', 'nbc', 'objects', 'spoke', 'feed', 'climate-change', 'shipper', 'lands', 'vertex']\n",
            "Iter: 2; Temp: 4; Generated Sequence:\n",
            "   ['mainland', 'bringing', 'nothing', 'arteta', 'victoria', 'rounds', 'spray', 'elizabeth', 'any', 'decisive', 'starbucks', 'lets', 'racing', 'failures', 'cocoa', 'glass', 'promote', 'undecided', 'ticket', 'half']\n",
            "Iter: 3; Temp: 4; Generated Sequence:\n",
            "   ['lung', 'venezuelans', 'torrey', 'restarting', 'stuns', 'weakest', 'lowest', 'alleging', 'office', \"'s\", 'tribunal', 'clouds', 'adam', 'buffett', 'piles', 'brewer', 'except', 'alitalia', 'awarded', 'abandon']\n",
            "Iter: 4; Temp: 4; Generated Sequence:\n",
            "   ['carmakers', '_num_-bristol-myers', 'proposed', 'costa', 'fruit', 'dementia', 'kim', 'rains', 'arrested', 'not', 'inches', 'models', 'mugabe', 'druzhba', 'effort', \"'ve\", 'reputation', 'write', 'fuelling', 'term']\n",
            "\n",
            "\n"
          ],
          "name": "stdout"
        }
      ]
    },
    {
      "cell_type": "markdown",
      "metadata": {
        "id": "UFUdT2F3hZ6v",
        "colab_type": "text"
      },
      "source": [
        "\n",
        "It turns out that getting good results from a text auto-encoder is very difficult,\n",
        "and that it is very easy for our model to **overfit**.\n",
        "I will prevent overfitting using **data augmentation**.\n",
        "\n",
        "The idea behind data augmentation is to artificially increase the number of training\n",
        "examples by \"adding noise\" to the image. For example, during AlexNet training,\n",
        "the authors randomly cropped $224\\times 224$\n",
        "regions of a $256 \\times 256$ pixel image to increase the amount of training data.\n",
        "The authors also flipped the image left/right.\n",
        "\n"
      ]
    },
    {
      "cell_type": "code",
      "metadata": {
        "id": "LvRwJnOKhZ6w",
        "colab_type": "code",
        "colab": {}
      },
      "source": [
        "\"\"\"\n",
        "Note: The exact augmentation technique that should be used and its effect on\n",
        "training is highly dependent of the type of data you have.\n"
      ],
      "execution_count": 0,
      "outputs": []
    },
    {
      "cell_type": "markdown",
      "metadata": {
        "id": "_MqjXogfhZ64",
        "colab_type": "text"
      },
      "source": [
        "\n",
        "I will add noise to our headlines using a few different techniques:\n",
        "\n",
        "1. Shuffle the words in the headline, taking care that words don't end up too far from where they were initially\n",
        "2. Drop (remove) some words \n",
        "3. Replace some words with a blank word (a `<pad>` token)\n",
        "4. Replace some words with a random word \n",
        "\n"
      ]
    },
    {
      "cell_type": "code",
      "metadata": {
        "id": "nn7T9gG3hZ64",
        "colab_type": "code",
        "colab": {}
      },
      "source": [
        "def tokenize_and_randomize(headline,\n",
        "                           drop_prob=0.1,  # probability of dropping a word\n",
        "                           blank_prob=0.1, # probability of \"blanking\" out a word\n",
        "                           sub_prob=0.1,   # probability of substituting a word with a random one\n",
        "                           shuffle_dist=3): # maximum distance to shuffle a word\n",
        "    \"\"\"\n",
        "    Add 'noise' to a headline by slightly shuffling the word order,\n",
        "    dropping some words, blanking out some words (replacing with the <pad> token)\n",
        "    and substituting some words with random ones.\n",
        "    \"\"\"\n",
        "    headline = [vocab.stoi[w] for w in headline.split()]\n",
        "    n = len(headline)\n",
        "    # shuffle\n",
        "    headline = [headline[i] for i in get_shuffle_index(n, shuffle_dist)]\n",
        "\n",
        "    new_headline = [vocab.stoi['<bos>']]\n",
        "    for w in headline:\n",
        "        if random.random() < drop_prob:\n",
        "            # drop the word\n",
        "            pass\n",
        "        elif random.random() < blank_prob:\n",
        "            # replace with blank word\n",
        "            new_headline.append(vocab.stoi[\"<pad>\"])\n",
        "        elif random.random() < sub_prob:\n",
        "            # substitute word with another word\n",
        "            new_headline.append(random.randint(0, vocab_size - 1))\n",
        "        else:\n",
        "            # keep the original word\n",
        "            new_headline.append(w)\n",
        "    new_headline.append(vocab.stoi['<eos>'])\n",
        "    return new_headline\n",
        "\n",
        "def get_shuffle_index(n, max_shuffle_distance):\n",
        "    \"\"\" This is a helper function used to shuffle a headline with n words,\n",
        "    where each word is moved at most max_shuffle_distance. The function does\n",
        "    the following: \n",
        "       1. start with the *unshuffled* index of each word, which\n",
        "          is just the values [0, 1, 2, ..., n]\n",
        "       2. perturb these \"index\" values by a random floating-point value between\n",
        "          [0, max_shuffle_distance]\n",
        "       3. use the sorted position of these values as our new index\n",
        "    \"\"\"\n",
        "    index = np.arange(n)\n",
        "    perturbed_index = index + np.random.rand(n) * 3\n",
        "    new_index = sorted(enumerate(perturbed_index), key=lambda x: x[1])\n",
        "    return [index for (index, pert) in new_index]"
      ],
      "execution_count": 0,
      "outputs": []
    },
    {
      "cell_type": "code",
      "metadata": {
        "id": "6K4KMU98hZ67",
        "colab_type": "code",
        "outputId": "4574ced7-7d79-414a-a4bd-ea61cd6a2aae",
        "colab": {
          "base_uri": "https://localhost:8080/",
          "height": 357
        }
      },
      "source": [
        "def run_tokenize_and_randomize(number_iters, headline, randomize_values=False):\n",
        "  for i in range(number_iters):\n",
        "    if randomize_values:\n",
        "      shuff = random.randint(1,5) # random num between 2 and 5\n",
        "      # random num between 0.1 and 0.5 for the following:\n",
        "      drp = round(0.4*np.random.random_sample()+0.1, 2)\n",
        "      blnk = round(0.4*np.random.random_sample()+0.1, 2)\n",
        "      sub = round(0.4*np.random.random_sample()+0.1, 2)\n",
        "      print(f'Iter: {i}, Shuff Dist: {shuff}, P(Drop): {drp}, P(Blank): {blnk\\\n",
        "                                                              }, P(Sub): {sub}')\n",
        "      new_head_indexs = tokenize_and_randomize(headline,drp,blnk,sub,shuff)\n",
        "    else: #use defaults\n",
        "      new_head_indexs = tokenize_and_randomize(headline)\n",
        "      print(f'Iter: {i}')\n",
        "    print(f'\\tOriginal Headline: {headline}')\n",
        "    new_head = [vocab.itos[w] for w in new_head_indexs]\n",
        "    new_head = ' '.join(new_head) # to make headline more readable!\n",
        "    print(f'\\tNew Headline: {new_head}\\n')\n",
        "\n",
        "original_headline = ' '.join(train_data[22].title)\n",
        "run_tokenize_and_randomize(5, original_headline)"
      ],
      "execution_count": 0,
      "outputs": [
        {
          "output_type": "stream",
          "text": [
            "Iter: 0\n",
            "\tOriginal Headline: <bos> india cuts tax on crude , refined palm oil imports from asean countries <eos>\n",
            "\tNew Headline: <bos> <bos> india cuts tax <pad> , crude iaea imports oil from asean countries <pad> <eos>\n",
            "\n",
            "Iter: 1\n",
            "\tOriginal Headline: <bos> india cuts tax on crude , refined palm oil imports from asean countries <eos>\n",
            "\tNew Headline: <bos> atlantia cuts tax on , refined crude palm oil imports asean countries <pad> <eos>\n",
            "\n",
            "Iter: 2\n",
            "\tOriginal Headline: <bos> india cuts tax on crude , refined palm oil imports from asean countries <eos>\n",
            "\tNew Headline: <bos> <bos> cuts india tax , repayment palm oil from imports asean <eos> <eos>\n",
            "\n",
            "Iter: 3\n",
            "\tOriginal Headline: <bos> india cuts tax on crude , refined palm oil imports from asean countries <eos>\n",
            "\tNew Headline: <bos> india <bos> cuts lyles winning <pad> refined skripal from imports asean countries <eos>\n",
            "\n",
            "Iter: 4\n",
            "\tOriginal Headline: <bos> india cuts tax on crude , refined palm oil imports from asean countries <eos>\n",
            "\tNew Headline: <bos> primed india cuts on tax crude palm , refined district asean from _num_-glencore <eos>\n",
            "\n"
          ],
          "name": "stdout"
        }
      ]
    },
    {
      "cell_type": "code",
      "metadata": {
        "id": "BnRRXjy86LGU",
        "colab_type": "code",
        "outputId": "cbea456b-f38a-430c-f7de-76b8fe41ea00",
        "colab": {
          "base_uri": "https://localhost:8080/",
          "height": 357
        }
      },
      "source": [
        "# For testing the effects of different values in tokenize_and_randomize:\n",
        "run_tokenize_and_randomize(5, original_headline, True)"
      ],
      "execution_count": 0,
      "outputs": [
        {
          "output_type": "stream",
          "text": [
            "Iter: 0, Shuff Dist: 1, P(Drop): 0.4, P(Blank): 0.47, P(Sub): 0.13\n",
            "\tOriginal Headline: <bos> india cuts tax on crude , refined palm oil imports from asean countries <eos>\n",
            "\tNew Headline: <bos> india <pad> tax <pad> crude oil <pad> <pad> <eos>\n",
            "\n",
            "Iter: 1, Shuff Dist: 1, P(Drop): 0.23, P(Blank): 0.43, P(Sub): 0.21\n",
            "\tOriginal Headline: <bos> india cuts tax on crude , refined palm oil imports from asean countries <eos>\n",
            "\tNew Headline: <bos> <pad> shifting tax <pad> <pad> refined oil palm stephens <pad> countries <eos>\n",
            "\n",
            "Iter: 2, Shuff Dist: 5, P(Drop): 0.24, P(Blank): 0.32, P(Sub): 0.37\n",
            "\tOriginal Headline: <bos> india cuts tax on crude , refined palm oil imports from asean countries <eos>\n",
            "\tNew Headline: <bos> india <pad> <pad> tax on refined <pad> <pad> collins sabres <pad> <eos>\n",
            "\n",
            "Iter: 3, Shuff Dist: 1, P(Drop): 0.21, P(Blank): 0.28, P(Sub): 0.44\n",
            "\tOriginal Headline: <bos> india cuts tax on crude , refined palm oil imports from asean countries <eos>\n",
            "\tNew Headline: <bos> india <pad> cuts crude projectiles , crunch imports insurer census debates <eos>\n",
            "\n",
            "Iter: 4, Shuff Dist: 1, P(Drop): 0.19, P(Blank): 0.41, P(Sub): 0.29\n",
            "\tOriginal Headline: <bos> india cuts tax on crude , refined palm oil imports from asean countries <eos>\n",
            "\tNew Headline: <bos> iowa <bos> on <pad> encryption refined palm oil <pad> <pad> <pad> <eos>\n",
            "\n"
          ],
          "name": "stdout"
        }
      ]
    },
    {
      "cell_type": "code",
      "metadata": {
        "id": "S2zcmZkGhZ6-",
        "colab_type": "code",
        "outputId": "c5a5f035-b329-48e7-80c0-faf84b5264a8",
        "colab": {
          "base_uri": "https://localhost:8080/",
          "height": 493
        }
      },
      "source": [
        "def train_autoencoder(model, batch_size=64, learning_rate=0.001, num_epochs=10):\n",
        "    optimizer = optim.Adam(model.parameters(), lr=learning_rate)\n",
        "    criterion = nn.CrossEntropyLoss()\n",
        "\n",
        "    for ep in range(num_epochs):\n",
        "        # I will perform data augmentation by re-reading the input each time\n",
        "        field = torchtext.data.Field(sequential=True,\n",
        "                                     tokenize=tokenize_and_randomize, # <-- data augmentation\n",
        "                                     include_lengths=True,\n",
        "                                     batch_first=True,\n",
        "                                     use_vocab=False, \n",
        "                                     pad_token=vocab.stoi['<pad>'])\n",
        "        dataset = torchtext.data.TabularDataset(train_path, \"tsv\", [('title', field)])\n",
        "        val_dataset = torchtext.data.TabularDataset(valid_path, \"tsv\", [('title', text_field)])\n",
        "\n",
        "        # This BucketIterator will handle padding of sequences that are not of the same length\n",
        "        train_iter = torchtext.data.BucketIterator(dataset,\n",
        "                                                   batch_size=batch_size,\n",
        "                                                   sort_key=lambda x: len(x.title), # to minimize padding\n",
        "                                                   repeat=False)\n",
        "        valid_iter = torchtext.data.BucketIterator(val_dataset,\n",
        "                                                   batch_size=batch_size,\n",
        "                                                   sort_key=lambda x: len(x.title), # to minimize padding\n",
        "                                                   repeat=False)\n",
        "        model.train() # labelling model for training\n",
        "        model.cuda() # moving model from CPU to GPU\n",
        "\n",
        "        # BACKPROP on Training Data\n",
        "        for it, ((xs, lengths), _) in enumerate(train_iter):\n",
        "            xs = xs.cuda()\n",
        "            optimizer.zero_grad()\n",
        "            output, hidden = model(xs)\n",
        "            target = xs[:,1:]\n",
        "            loss = criterion(output.reshape(-1, vocab_size),\n",
        "                        target.reshape(-1))\n",
        "            loss.backward()\n",
        "            optimizer.step()\n",
        "            xs = xs.cpu()\n",
        "            if (it+1) % 100 == 0:\n",
        "                print(\"[Iter %d] Loss %f\" % (it+1, float(loss)))\n",
        "        \n",
        "        # Calculating Loss for Validation Data\n",
        "        model.train(False)\n",
        "        val_loss = 0\n",
        "        val_n = 0\n",
        "        for it, ((xs, lengths), _) in enumerate(valid_iter):\n",
        "           xs = xs.cuda()\n",
        "           zs,_ = model(xs)\n",
        "           target = xs[:,1:]\n",
        "           loss = criterion(zs.reshape(-1, vocab_size),\n",
        "                        target.reshape(-1))\n",
        "           val_loss += float(loss)\n",
        "           xs = xs.cpu()\n",
        "        model.cpu()\n",
        "        print(f'[Epoch {ep}] Valid Loss {val_loss/len(valid_iter)}\\n')\n",
        "\n",
        "model = AutoEncoder(vocab_size, 128, 128)\n",
        "train_autoencoder(model, 64, 0.002, num_epochs=1)"
      ],
      "execution_count": 0,
      "outputs": [
        {
          "output_type": "stream",
          "text": [
            "[Iter 100] Loss 4.141483\n",
            "[Iter 200] Loss 4.309234\n",
            "[Iter 300] Loss 3.837526\n",
            "[Iter 400] Loss 4.149048\n",
            "[Iter 500] Loss 3.824544\n",
            "[Iter 600] Loss 4.010885\n",
            "[Iter 700] Loss 3.763700\n",
            "[Iter 800] Loss 2.745450\n",
            "[Iter 900] Loss 3.124757\n",
            "[Iter 1000] Loss 3.308589\n",
            "[Iter 1100] Loss 3.572793\n",
            "[Iter 1200] Loss 3.453383\n",
            "[Iter 1300] Loss 3.303916\n",
            "[Iter 1400] Loss 3.157914\n",
            "[Iter 1500] Loss 3.729188\n",
            "[Iter 1600] Loss 2.969416\n",
            "[Iter 1700] Loss 3.045413\n",
            "[Iter 1800] Loss 2.841511\n",
            "[Iter 1900] Loss 2.961511\n",
            "[Iter 2000] Loss 3.536849\n",
            "[Iter 2100] Loss 3.146111\n",
            "[Iter 2200] Loss 2.927870\n",
            "[Iter 2300] Loss 2.548130\n",
            "[Iter 2400] Loss 2.993264\n",
            "[Iter 2500] Loss 2.964173\n",
            "[Iter 2600] Loss 3.217925\n",
            "[Epoch 0] Valid Loss 2.9141917892750477\n",
            "\n"
          ],
          "name": "stdout"
        }
      ]
    },
    {
      "cell_type": "code",
      "metadata": {
        "id": "dHdN7fZFhZ7A",
        "colab_type": "code",
        "outputId": "05815597-2b16-46d5-8b48-acfd6ab5480c",
        "colab": {
          "base_uri": "https://localhost:8080/",
          "height": 34
        }
      },
      "source": [
        "model = AutoEncoder(10000, 128, 128)\n",
        "checkpoint_path = '/content/drive/My Drive/model.pk'\n",
        "model.load_state_dict(torch.load(checkpoint_path))"
      ],
      "execution_count": 0,
      "outputs": [
        {
          "output_type": "execute_result",
          "data": {
            "text/plain": [
              "<All keys matched successfully>"
            ]
          },
          "metadata": {
            "tags": []
          },
          "execution_count": 329
        }
      ]
    },
    {
      "cell_type": "code",
      "metadata": {
        "id": "ALgJgfUBhZ7C",
        "colab_type": "code",
        "outputId": "07d4b057-fff3-4a77-947d-efbdd2367f83",
        "colab": {
          "base_uri": "https://localhost:8080/",
          "height": 680
        }
      },
      "source": [
        "# If the temperature setting is too small then all of the generated sequences\n",
        "# would be the same/very similar. This is because I would only select the values\n",
        "# that have the highest probability of contributing to the sequence. Thus I \n",
        "# use a moderate temperature setting.\n",
        "headline = train_data[10].title\n",
        "input_seq = torch.Tensor([vocab.stoi[w] for w in headline]).unsqueeze(0).long()\n",
        "print(f'Original Headline: {headline}\\n\\n')\n",
        "for temp in [0.7,0.9,1.5]:\n",
        "  for i in range(5):\n",
        "    hidden = model.encode(input_seq)\n",
        "    seq = sample_sequence(model, hidden, temperature=temp)\n",
        "    print(f'Iter: {i}; Temp: {temp}; Generated Sequence:\\n   {seq}')\n",
        "  print('\\n')"
      ],
      "execution_count": 0,
      "outputs": [
        {
          "output_type": "stream",
          "text": [
            "Original Headline: ['<bos>', 'wall', 'street', 'rises', ',', 'limps', 'across', 'the', 'finish', 'line', 'of', 'a', 'turbulent', 'year', '<eos>']\n",
            "\n",
            "\n",
            "Iter: 0; Temp: 0.7; Generated Sequence:\n",
            "   ['wall', 'street', 'rises', ',', 'limps', 'and', 'wins', 'the', 'costs', 'baghdad', '<pad>', 'for', 'challenging']\n",
            "Iter: 1; Temp: 0.7; Generated Sequence:\n",
            "   ['wall', 'street', 'rises', ',', 'limps', 'and', 'wins', 'at', '$', '<pad>', 'highway', 'a', 'bets']\n",
            "Iter: 2; Temp: 0.7; Generated Sequence:\n",
            "   ['wall', 'street', 'rises', ',', 'limps', 'and', 'wins', 'at', 'menu', ':', 'libya', 'unknown']\n",
            "Iter: 3; Temp: 0.7; Generated Sequence:\n",
            "   ['wall', 'street', 'rises', ',', 'limps', 'and', 'wins', 'at', '$', '<pad>', 'after', 'camps', 'bets']\n",
            "Iter: 4; Temp: 0.7; Generated Sequence:\n",
            "   ['wall', 'street', 'rises', ',', 'limps', 'and', 'wins', 'at', '$', '<pad>', 'after', 'positive', 'election']\n",
            "\n",
            "\n",
            "Iter: 0; Temp: 0.9; Generated Sequence:\n",
            "   ['wall', 'street', 'rises', ',', 'after', 'the', 'losses', 'from', 'the', 'markets', 'poor', 'performing', 'year']\n",
            "Iter: 1; Temp: 0.9; Generated Sequence:\n",
            "   ['wall', 'street', 'rises', ',', 'after', 'then', 'losses', \"'s\", 'question', '<pad>', 'outside', 'summit', 'another']\n",
            "Iter: 2; Temp: 0.9; Generated Sequence:\n",
            "   ['wall', 'street', 'rises', ',', 'after', 'australia', 'back', 'clears', 'line', 'on', '<pad>', 'year', 'this']\n",
            "Iter: 3; Temp: 0.9; Generated Sequence:\n",
            "   ['wall', 'street', 'rises', ',', 'after', 'die', 'wins', 'at', 'choppy', '<pad>', 'pact', 'near', 'year']\n",
            "Iter: 4; Temp: 0.9; Generated Sequence:\n",
            "   ['wall', 'street', 'rises', ',', 'after', 'open', 'sentence', ',', 'kick', '<unk>', 'big', 'india', 'job']\n",
            "\n",
            "\n",
            "Iter: 0; Temp: 1.5; Generated Sequence:\n",
            "   ['wall', 'street', 'rises', ',', 'limps', 'refugee', '<unk>', 'marathon', 'funding', 'says', 'fire', 'september', 'competition']\n",
            "Iter: 1; Temp: 1.5; Generated Sequence:\n",
            "   ['wall', 'street', 'rises', ',', 'limps', 'die', 'win', \"'s\", 'stones', 'silent', 'to', 'norway', '6th']\n",
            "Iter: 2; Temp: 1.5; Generated Sequence:\n",
            "   ['wall', 'street', 'rises', ',', 'limps', 'point', 'die', \"'s\", 'extradition', 'suppliers', 'after', 'september', 'in']\n",
            "Iter: 3; Temp: 1.5; Generated Sequence:\n",
            "   ['wall', 'street', 'rises', ',', 'fc', 'lawmakers', 'win', 'australia', 'on', '<pad>', 'for', 'baghdad', 'surplus']\n",
            "Iter: 4; Temp: 1.5; Generated Sequence:\n",
            "   ['wall', 'survey', 'federer', 'giannis', 'assets', 'but', 'greener', 'into', 'appeal', 'to', 'park', 'abbas', 'risks']\n",
            "\n",
            "\n"
          ],
          "name": "stdout"
        }
      ]
    },
    {
      "cell_type": "code",
      "metadata": {
        "id": "O368lQF1hZ7E",
        "colab_type": "code",
        "colab": {}
      },
      "source": [
        "valid_data = torchtext.data.TabularDataset(\n",
        "    path=valid_path,                # data file path\n",
        "    format=\"tsv\",                   # fields are separated by a tab\n",
        "    fields=[('title', text_field)]) # list of fields (I have only one)"
      ],
      "execution_count": 0,
      "outputs": []
    },
    {
      "cell_type": "code",
      "metadata": {
        "id": "Mtl5H2NHhZ7I",
        "colab_type": "code",
        "outputId": "610e733a-8ab4-4e95-ecbc-96e174bf8ee6",
        "colab": {
          "base_uri": "https://localhost:8080/",
          "height": 34
        }
      },
      "source": [
        "val_embeddings = []\n",
        "for val_point in valid_data:\n",
        "  input_seq1 = torch.Tensor([vocab.stoi[w] for w in val_point.title]).long().unsqueeze(0)\n",
        "  encoding = model.encode(input_seq1)[0]\n",
        "  val_embeddings.append(encoding)\n",
        "val_embeddings = torch.cat(tuple(val_embeddings),0)\n",
        "print(val_embeddings.shape)"
      ],
      "execution_count": 0,
      "outputs": [
        {
          "output_type": "stream",
          "text": [
            "torch.Size([19046, 128])\n"
          ],
          "name": "stdout"
        }
      ]
    },
    {
      "cell_type": "code",
      "metadata": {
        "id": "kn4QUnpphZ7N",
        "colab_type": "code",
        "outputId": "c3db482d-d8de-4b8b-a3e7-58c42fcd2e61",
        "colab": {
          "base_uri": "https://localhost:8080/",
          "height": 170
        }
      },
      "source": [
        "word_emb = val_embeddings.detach().numpy()\n",
        "norms=np.linalg.norm(word_emb, axis=1)\n",
        "word_emb_norm=(word_emb.T/norms).T\n",
        "similarities=np.matmul(word_emb_norm, word_emb_norm.T)\n",
        "def find_five_closest(index):\n",
        "  \"\"\" \n",
        "  Return a list of the five closest headlines to the headline at given index. \n",
        "  \"\"\"\n",
        "  ind = np.argsort([similarities[index]])\n",
        "  five_closest = [valid_data[i] for i in ind[0,-6:-1]] \n",
        "  five_closest.reverse()\n",
        "  return five_closest\n",
        "\n",
        "print(f'Original Headline:\\n{\" \".join(valid_data[13].title)}')\n",
        "closest = find_five_closest(13)\n",
        "print('\\n5 Closest Headlines:')\n",
        "for close_headline in closest:\n",
        "  print(f'{\" \".join(close_headline.title)}')"
      ],
      "execution_count": 0,
      "outputs": [
        {
          "output_type": "stream",
          "text": [
            "Original Headline:\n",
            "<bos> asia takes heart from new year gains in u.s. stock futures <eos>\n",
            "\n",
            "5 Closest Headlines:\n",
            "<bos> italy 's salvini loses aura of invincibility in emilia setback <eos>\n",
            "<bos> saudi , russia look to seal deeper output cuts with oil producers <eos>\n",
            "<bos> eu orders quarantine for staff who traveled to northern italy <eos>\n",
            "<bos> update _num_-italy 's prime minister says new government will bicker less <eos>\n",
            "<bos> portugal 's moura pays tribute to cod fishermen at milan fashion close <eos>\n"
          ],
          "name": "stdout"
        }
      ]
    },
    {
      "cell_type": "code",
      "metadata": {
        "id": "qspCs6HEhZ7P",
        "colab_type": "code",
        "outputId": "417519c7-7628-48a1-aa0e-dc5d07dbc576",
        "colab": {
          "base_uri": "https://localhost:8080/",
          "height": 170
        }
      },
      "source": [
        "print(f'Original Headline:\\n{\" \".join(valid_data[7727].title[1:-1])}')\n",
        "closest = find_five_closest(7727)\n",
        "print('\\n5 Closest Headlines:')\n",
        "for close_headline in closest:\n",
        "  print(f'{\" \".join(close_headline.title[1:-1])}')"
      ],
      "execution_count": 0,
      "outputs": [
        {
          "output_type": "stream",
          "text": [
            "Original Headline:\n",
            "california governor signs bill for $ _num_ bln wildfire fund\n",
            "\n",
            "5 Closest Headlines:\n",
            "california lawmakers approve legislation for $ _num_ bln wildfire fund\n",
            "update _num_-california governor proposes a $ _num_ billion wildfire fund\n",
            "california governor proposes more than $ _num_ billion toward homelessness\n",
            "california governor signs gig economy labor bill into law\n",
            "u.s. group says novartis ms drug price out of line with benefit\n"
          ],
          "name": "stdout"
        }
      ]
    },
    {
      "cell_type": "markdown",
      "metadata": {
        "id": "DJFVYWfBhZ7S",
        "colab_type": "text"
      },
      "source": [
        "\n",
        "I will choose two headlines from the validation set, and find their embeddings.\n",
        "I will then **interpolate** between the two embeddings.\n",
        "\n",
        "3 points, equally spaced between the embeddings of my headlines.\n",
        "If I let $e_0$ be the embedding of the first headline and $e_4$ be\n",
        "the embedding of the second headline, the three points should be:\n",
        "\n",
        "\\begin{align*}\n",
        "e_1 &=  0.75 e_0 + 0.25 e_4 \\\\\n",
        "e_2 &=  0.50 e_0 + 0.50 e_4 \\\\\n",
        "e_3 &=  0.25 e_0 + 0.75 e_4 \\\\\n",
        "\\end{align*}\n",
        "\n",
        "I decode each of $e_1$, $e_2$ and $e_3$ five times, with a temperature setting\n",
        "that shows some variation in the generated sequences, while generating sequences\n",
        "that makes sense."
      ]
    },
    {
      "cell_type": "code",
      "metadata": {
        "id": "nSHoBDxahZ7S",
        "colab_type": "code",
        "outputId": "291582b4-958f-4e8a-ec64-69ac87a5c9d8",
        "colab": {
          "base_uri": "https://localhost:8080/",
          "height": 867
        }
      },
      "source": [
        "def interpolate(index1, index2, temp): #0,33\n",
        "  headline_1 = valid_data[index1].title\n",
        "  input_seq1 = torch.Tensor([vocab.stoi[w] for w in headline_1]).long().unsqueeze(0)\n",
        "  headline_2 = valid_data[index2].title\n",
        "  input_seq2 = torch.Tensor([vocab.stoi[w] for w in headline_2]).long().unsqueeze(0)\n",
        "  x = torch.cat([input_seq1,input_seq2])\n",
        "  embedding = model.encode(x)\n",
        "  e0 = embedding[:,0,:]\n",
        "  e4 = embedding[:,1,:]\n",
        "  embedding_values = []\n",
        "  for i in range(1, 4):\n",
        "      e = (e0 * ((4-i)/4)) + (e4 * (i/4))\n",
        "      embedding_values.append(e)\n",
        "  embedding_values = torch.stack(embedding_values)\n",
        "  for i in range(1,6):\n",
        "    print('\\n')\n",
        "    print('--'*50)\n",
        "    print(f'Iter: {i}; Temp: {temp};')\n",
        "    print('1st (e0):', headline_1)\n",
        "    for embed in range(0,3):\n",
        "      seq = sample_sequence(model, embedding_values[embed,:].view(1,1,128), temperature=temp)\n",
        "      print(f'(e{embed+1}):  {seq}')\n",
        "    print('2nd (e4):', headline_2)\n",
        "    print('--'*50)\n",
        "interpolate(0,33, .79)"
      ],
      "execution_count": 0,
      "outputs": [
        {
          "output_type": "stream",
          "text": [
            "\n",
            "\n",
            "----------------------------------------------------------------------------------------------------\n",
            "Iter: 1; Temp: 0.79;\n",
            "1st (e0): ['<bos>', 'n.korea', \"'s\", 'kim', 'says', 'new', 'path', 'inevitable', 'if', 'u.s.', 'demands', 'unilateral', 'action', '<eos>']\n",
            "(e1):  ['n.korea', 'situation', 'says', 'states', 'new', 'soft', 'leave', 'will', 'force', 'the', 'warned', 'dollars']\n",
            "(e2):  ['experts', 'pressing', 'bolsonaro', 'to', 'defend', 'compensation', 'not', 'tensions']\n",
            "(e3):  ['kurdish', 'syrian', 'seal', 'to', 'rocky', 'development', 'of', 'the', 'airliner', ':', 'korea', 'extremism']\n",
            "2nd (e4): ['<bos>', 'kurdish', 'fighters', 'pull', 'out', 'of', 'flashpoint', 'town', ':', 'syria', \"'s\", 'defense', 'ministry', '<eos>']\n",
            "----------------------------------------------------------------------------------------------------\n",
            "\n",
            "\n",
            "----------------------------------------------------------------------------------------------------\n",
            "Iter: 2; Temp: 0.79;\n",
            "1st (e0): ['<bos>', 'n.korea', \"'s\", 'kim', 'says', 'new', 'path', 'inevitable', 'if', 'u.s.', 'demands', 'unilateral', 'action', '<eos>']\n",
            "(e1):  ['n.korea', 'says', 'join', 'pilot', 'confident', 'not', 'secretive', 'ready', 'venezuela', 'egypt', 'cnbc']\n",
            "(e2):  ['kurdish', 'drian', 'carrier', 'of', 'take', 'loom', 'ukrainian', 'u.s.', 'summit', 'sale', 'direction', 'tariffs']\n",
            "(e3):  ['kurdish', 'senior', 'returns', 'exports', 'drones', 'carefully', 'against', 'kashmir', 'iran', 'chief', 'data']\n",
            "2nd (e4): ['<bos>', 'kurdish', 'fighters', 'pull', 'out', 'of', 'flashpoint', 'town', ':', 'syria', \"'s\", 'defense', 'ministry', '<eos>']\n",
            "----------------------------------------------------------------------------------------------------\n",
            "\n",
            "\n",
            "----------------------------------------------------------------------------------------------------\n",
            "Iter: 3; Temp: 0.79;\n",
            "1st (e0): ['<bos>', 'n.korea', \"'s\", 'kim', 'says', 'new', 'path', 'inevitable', 'if', 'u.s.', 'demands', 'unilateral', 'action', '<eos>']\n",
            "(e1):  ['theater', 'chief', 'russian', 'argentina', 'to', 'include', 'syrian', 'with', 'attacks', 'of', 'rouhani']\n",
            "(e2):  ['sudanese', 'sues', 'says', 'boeing', 'pull', 'and', 'algeria', 'aide', 'tests', 'northern', 'chief', 'controls']\n",
            "(e3):  ['kurdish', 'u.n.', 'even', 'of', 'delayed', 'stone', 'after', 'standoff', 'cites', 'nigeria', 'orders', 'summit']\n",
            "2nd (e4): ['<bos>', 'kurdish', 'fighters', 'pull', 'out', 'of', 'flashpoint', 'town', ':', 'syria', \"'s\", 'defense', 'ministry', '<eos>']\n",
            "----------------------------------------------------------------------------------------------------\n",
            "\n",
            "\n",
            "----------------------------------------------------------------------------------------------------\n",
            "Iter: 4; Temp: 0.79;\n",
            "1st (e0): ['<bos>', 'n.korea', \"'s\", 'kim', 'says', 'new', 'path', 'inevitable', 'if', 'u.s.', 'demands', 'unilateral', 'action', '<eos>']\n",
            "(e1):  ['n.korea', 'says', 'situation', 'state', 'new', 'economics', 'ukrainian', 'ties', 'ceasefire', 'indian', 'the']\n",
            "(e2):  ['mp', 'turkey', 'of', 'spirit', 'one', 'will', 'white', 'expulsion', 'crisis', 'no', 'ukraine', 'seeks']\n",
            "(e3):  ['kurdish', 'senior', 'bolsonaro', 'f-35', 'as', 'body', 'airport', 'war', 'sanctions', 'official', 'greenland', 'loans']\n",
            "2nd (e4): ['<bos>', 'kurdish', 'fighters', 'pull', 'out', 'of', 'flashpoint', 'town', ':', 'syria', \"'s\", 'defense', 'ministry', '<eos>']\n",
            "----------------------------------------------------------------------------------------------------\n",
            "\n",
            "\n",
            "----------------------------------------------------------------------------------------------------\n",
            "Iter: 5; Temp: 0.79;\n",
            "1st (e0): ['<bos>', 'n.korea', \"'s\", 'kim', 'says', 'new', 'path', 'inevitable', 'if', 'u.s.', 'demands', 'unilateral', 'action', '<eos>']\n",
            "(e1):  ['n.korea', 'pm', 'sen.', 'new', 'any', 'syrian', 'striking', 'max', 'uranium', 'war', 'groups']\n",
            "(e2):  ['sudanese', 'diplomat', 'red-hot', 'as', 'pay', 'strait', 'g20', 'made', ':', 'east', 'awards', 'putin']\n",
            "(e3):  ['kurdish', 'campuses', 'likely', 'refugees', 'of', 'qualifier', 'weapon', 'envoy', 'nuclear', ':', 'yonhap']\n",
            "2nd (e4): ['<bos>', 'kurdish', 'fighters', 'pull', 'out', 'of', 'flashpoint', 'town', ':', 'syria', \"'s\", 'defense', 'ministry', '<eos>']\n",
            "----------------------------------------------------------------------------------------------------\n"
          ],
          "name": "stdout"
        }
      ]
    }
  ]
}
